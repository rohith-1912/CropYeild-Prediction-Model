{
 "cells": [
  {
   "cell_type": "code",
   "execution_count": 15,
   "id": "77c9e199-8afb-4a12-9b35-16b9c5f74381",
   "metadata": {},
   "outputs": [],
   "source": [
    "import pandas as pd\n",
    "import numpy as np\n",
    "import matplotlib.pyplot as plt\n",
    "from sklearn.model_selection import train_test_split\n",
    "from sklearn.linear_model import LinearRegression\n",
    "from sklearn.metrics import mean_squared_error, r2_score\n",
    "from sklearn import metrics"
   ]
  },
  {
   "cell_type": "markdown",
   "id": "a6419fa5-d704-4dd8-ba30-b12e18bd2835",
   "metadata": {},
   "source": [
    "### Import The Dataset"
   ]
  },
  {
   "cell_type": "code",
   "execution_count": 16,
   "id": "1cc91cf0-d00b-4e41-a809-c16691512d5e",
   "metadata": {},
   "outputs": [
    {
     "data": {
      "text/plain": [
       "<bound method NDFrame.head of     Rain Fall (mm)  Fertilizer(urea) (kg/acre)  Temperature (°C)  \\\n",
       "0             1230                          80                28   \n",
       "1              480                          60                36   \n",
       "2             1250                          75                29   \n",
       "3              450                          65                35   \n",
       "4             1200                          80                27   \n",
       "..             ...                         ...               ...   \n",
       "94            1250                          77                28   \n",
       "95             425                          60                39   \n",
       "96            1220                          79                28   \n",
       "97             480                          65                36   \n",
       "98            1230                          80                28   \n",
       "\n",
       "    Nitrogen (N)  Phosphorus (P)  Potassium (K)  Yeild (Q/acre)  \n",
       "0             80              24             20            12.0  \n",
       "1             70              20             18             8.0  \n",
       "2             78              22             19            11.0  \n",
       "3             70              19             18             9.0  \n",
       "4             79              22             19            11.0  \n",
       "..           ...             ...            ...             ...  \n",
       "94            78              23             20             9.0  \n",
       "95            65              19             17             6.5  \n",
       "96            77              23             21            10.5  \n",
       "97            68              21             16             7.0  \n",
       "98            80              24             20            12.0  \n",
       "\n",
       "[99 rows x 7 columns]>"
      ]
     },
     "execution_count": 16,
     "metadata": {},
     "output_type": "execute_result"
    }
   ],
   "source": [
    "df = pd.read_excel(\"crop yeild data.xlsx\")\n",
    "df.head"
   ]
  },
  {
   "cell_type": "code",
   "execution_count": 17,
   "id": "c1f225fd-ce7f-4dff-bcc1-31565c9ee5e8",
   "metadata": {},
   "outputs": [
    {
     "data": {
      "text/plain": [
       "(99, 7)"
      ]
     },
     "execution_count": 17,
     "metadata": {},
     "output_type": "execute_result"
    }
   ],
   "source": [
    "df.shape"
   ]
  },
  {
   "cell_type": "code",
   "execution_count": 18,
   "id": "d488dcd8-4f78-480f-81f9-316879909f86",
   "metadata": {},
   "outputs": [
    {
     "data": {
      "text/plain": [
       "<bound method NDFrame.describe of     Rain Fall (mm)  Fertilizer(urea) (kg/acre)  Temperature (°C)  \\\n",
       "0             1230                          80                28   \n",
       "1              480                          60                36   \n",
       "2             1250                          75                29   \n",
       "3              450                          65                35   \n",
       "4             1200                          80                27   \n",
       "..             ...                         ...               ...   \n",
       "94            1250                          77                28   \n",
       "95             425                          60                39   \n",
       "96            1220                          79                28   \n",
       "97             480                          65                36   \n",
       "98            1230                          80                28   \n",
       "\n",
       "    Nitrogen (N)  Phosphorus (P)  Potassium (K)  Yeild (Q/acre)  \n",
       "0             80              24             20            12.0  \n",
       "1             70              20             18             8.0  \n",
       "2             78              22             19            11.0  \n",
       "3             70              19             18             9.0  \n",
       "4             79              22             19            11.0  \n",
       "..           ...             ...            ...             ...  \n",
       "94            78              23             20             9.0  \n",
       "95            65              19             17             6.5  \n",
       "96            77              23             21            10.5  \n",
       "97            68              21             16             7.0  \n",
       "98            80              24             20            12.0  \n",
       "\n",
       "[99 rows x 7 columns]>"
      ]
     },
     "execution_count": 18,
     "metadata": {},
     "output_type": "execute_result"
    }
   ],
   "source": [
    "df.describe"
   ]
  },
  {
   "cell_type": "markdown",
   "id": "9c5b4401-d954-4bd3-b449-49e13c0ea0a1",
   "metadata": {},
   "source": [
    "### Preprocessing the Data"
   ]
  },
  {
   "cell_type": "code",
   "execution_count": 19,
   "id": "4bae7356-06a5-4a49-a848-642c8cf4f87d",
   "metadata": {},
   "outputs": [
    {
     "data": {
      "text/plain": [
       "Rain Fall (mm)                0\n",
       "Fertilizer(urea) (kg/acre)    0\n",
       "Temperature (°C)              0\n",
       "Nitrogen (N)                  0\n",
       "Phosphorus (P)                0\n",
       "Potassium (K)                 0\n",
       "Yeild (Q/acre)                0\n",
       "dtype: int64"
      ]
     },
     "execution_count": 19,
     "metadata": {},
     "output_type": "execute_result"
    }
   ],
   "source": [
    "df.isnull().sum()"
   ]
  },
  {
   "cell_type": "markdown",
   "id": "710175e5-5ba0-41fd-90c3-5dd3c23e4307",
   "metadata": {},
   "source": [
    "### Spliting the data into train and test data"
   ]
  },
  {
   "cell_type": "code",
   "execution_count": 20,
   "id": "40f21d52-928a-4fb8-af32-73b6a14da511",
   "metadata": {},
   "outputs": [],
   "source": [
    "x = df.iloc[:,:-1]\n",
    "y = df.iloc[:,-1]"
   ]
  },
  {
   "cell_type": "code",
   "execution_count": 21,
   "id": "e84fd795-3200-4326-84de-1e245b50348f",
   "metadata": {},
   "outputs": [],
   "source": [
    "x_train,x_test,y_train,y_test = train_test_split(x,y,test_size = 0.2, random_state = 42)"
   ]
  },
  {
   "cell_type": "markdown",
   "id": "0851f24a-11aa-4771-9638-95b551edafc4",
   "metadata": {},
   "source": [
    "### Regression Model Creation"
   ]
  },
  {
   "cell_type": "code",
   "execution_count": 22,
   "id": "cfe6fa47-3e21-4fa1-a8e8-888f102144b8",
   "metadata": {},
   "outputs": [
    {
     "data": {
      "text/html": [
       "<style>#sk-container-id-2 {color: black;background-color: white;}#sk-container-id-2 pre{padding: 0;}#sk-container-id-2 div.sk-toggleable {background-color: white;}#sk-container-id-2 label.sk-toggleable__label {cursor: pointer;display: block;width: 100%;margin-bottom: 0;padding: 0.3em;box-sizing: border-box;text-align: center;}#sk-container-id-2 label.sk-toggleable__label-arrow:before {content: \"▸\";float: left;margin-right: 0.25em;color: #696969;}#sk-container-id-2 label.sk-toggleable__label-arrow:hover:before {color: black;}#sk-container-id-2 div.sk-estimator:hover label.sk-toggleable__label-arrow:before {color: black;}#sk-container-id-2 div.sk-toggleable__content {max-height: 0;max-width: 0;overflow: hidden;text-align: left;background-color: #f0f8ff;}#sk-container-id-2 div.sk-toggleable__content pre {margin: 0.2em;color: black;border-radius: 0.25em;background-color: #f0f8ff;}#sk-container-id-2 input.sk-toggleable__control:checked~div.sk-toggleable__content {max-height: 200px;max-width: 100%;overflow: auto;}#sk-container-id-2 input.sk-toggleable__control:checked~label.sk-toggleable__label-arrow:before {content: \"▾\";}#sk-container-id-2 div.sk-estimator input.sk-toggleable__control:checked~label.sk-toggleable__label {background-color: #d4ebff;}#sk-container-id-2 div.sk-label input.sk-toggleable__control:checked~label.sk-toggleable__label {background-color: #d4ebff;}#sk-container-id-2 input.sk-hidden--visually {border: 0;clip: rect(1px 1px 1px 1px);clip: rect(1px, 1px, 1px, 1px);height: 1px;margin: -1px;overflow: hidden;padding: 0;position: absolute;width: 1px;}#sk-container-id-2 div.sk-estimator {font-family: monospace;background-color: #f0f8ff;border: 1px dotted black;border-radius: 0.25em;box-sizing: border-box;margin-bottom: 0.5em;}#sk-container-id-2 div.sk-estimator:hover {background-color: #d4ebff;}#sk-container-id-2 div.sk-parallel-item::after {content: \"\";width: 100%;border-bottom: 1px solid gray;flex-grow: 1;}#sk-container-id-2 div.sk-label:hover label.sk-toggleable__label {background-color: #d4ebff;}#sk-container-id-2 div.sk-serial::before {content: \"\";position: absolute;border-left: 1px solid gray;box-sizing: border-box;top: 0;bottom: 0;left: 50%;z-index: 0;}#sk-container-id-2 div.sk-serial {display: flex;flex-direction: column;align-items: center;background-color: white;padding-right: 0.2em;padding-left: 0.2em;position: relative;}#sk-container-id-2 div.sk-item {position: relative;z-index: 1;}#sk-container-id-2 div.sk-parallel {display: flex;align-items: stretch;justify-content: center;background-color: white;position: relative;}#sk-container-id-2 div.sk-item::before, #sk-container-id-2 div.sk-parallel-item::before {content: \"\";position: absolute;border-left: 1px solid gray;box-sizing: border-box;top: 0;bottom: 0;left: 50%;z-index: -1;}#sk-container-id-2 div.sk-parallel-item {display: flex;flex-direction: column;z-index: 1;position: relative;background-color: white;}#sk-container-id-2 div.sk-parallel-item:first-child::after {align-self: flex-end;width: 50%;}#sk-container-id-2 div.sk-parallel-item:last-child::after {align-self: flex-start;width: 50%;}#sk-container-id-2 div.sk-parallel-item:only-child::after {width: 0;}#sk-container-id-2 div.sk-dashed-wrapped {border: 1px dashed gray;margin: 0 0.4em 0.5em 0.4em;box-sizing: border-box;padding-bottom: 0.4em;background-color: white;}#sk-container-id-2 div.sk-label label {font-family: monospace;font-weight: bold;display: inline-block;line-height: 1.2em;}#sk-container-id-2 div.sk-label-container {text-align: center;}#sk-container-id-2 div.sk-container {/* jupyter's `normalize.less` sets `[hidden] { display: none; }` but bootstrap.min.css set `[hidden] { display: none !important; }` so we also need the `!important` here to be able to override the default hidden behavior on the sphinx rendered scikit-learn.org. See: https://github.com/scikit-learn/scikit-learn/issues/21755 */display: inline-block !important;position: relative;}#sk-container-id-2 div.sk-text-repr-fallback {display: none;}</style><div id=\"sk-container-id-2\" class=\"sk-top-container\"><div class=\"sk-text-repr-fallback\"><pre>LinearRegression()</pre><b>In a Jupyter environment, please rerun this cell to show the HTML representation or trust the notebook. <br />On GitHub, the HTML representation is unable to render, please try loading this page with nbviewer.org.</b></div><div class=\"sk-container\" hidden><div class=\"sk-item\"><div class=\"sk-estimator sk-toggleable\"><input class=\"sk-toggleable__control sk-hidden--visually\" id=\"sk-estimator-id-2\" type=\"checkbox\" checked><label for=\"sk-estimator-id-2\" class=\"sk-toggleable__label sk-toggleable__label-arrow\">LinearRegression</label><div class=\"sk-toggleable__content\"><pre>LinearRegression()</pre></div></div></div></div></div>"
      ],
      "text/plain": [
       "LinearRegression()"
      ]
     },
     "execution_count": 22,
     "metadata": {},
     "output_type": "execute_result"
    }
   ],
   "source": [
    "model = LinearRegression()\n",
    "model.fit(x_train,y_train)"
   ]
  },
  {
   "cell_type": "code",
   "execution_count": 23,
   "id": "f682adf9-dee9-400e-91ce-4ccf8abd822a",
   "metadata": {},
   "outputs": [],
   "source": [
    "y_hat = model.predict(x_test)"
   ]
  },
  {
   "cell_type": "markdown",
   "id": "f6a1118a-489c-4400-a0a0-a3fefe9b0ccf",
   "metadata": {},
   "source": [
    "### Model Evaluation"
   ]
  },
  {
   "cell_type": "code",
   "execution_count": 24,
   "id": "08a375ad-a930-43cf-b308-b9a0c17c7af6",
   "metadata": {},
   "outputs": [
    {
     "name": "stdout",
     "output_type": "stream",
     "text": [
      "Mean squared error:0.4398946477607521\n"
     ]
    }
   ],
   "source": [
    "mae = mean_squared_error(y_test,y_hat)\n",
    "print(f\"Mean squared error:{mae}\")"
   ]
  },
  {
   "cell_type": "code",
   "execution_count": 26,
   "id": "fc5f73de-66fc-48ec-829c-d995e51406f7",
   "metadata": {},
   "outputs": [
    {
     "name": "stdout",
     "output_type": "stream",
     "text": [
      "Accuarcy_score:0.9060430601498861\n"
     ]
    }
   ],
   "source": [
    "score = r2_score(y_test,y_hat)\n",
    "print(f\"Accuarcy_score:{score}\")"
   ]
  }
 ],
 "metadata": {
  "kernelspec": {
   "display_name": "Python 3 (ipykernel)",
   "language": "python",
   "name": "python3"
  },
  "language_info": {
   "codemirror_mode": {
    "name": "ipython",
    "version": 3
   },
   "file_extension": ".py",
   "mimetype": "text/x-python",
   "name": "python",
   "nbconvert_exporter": "python",
   "pygments_lexer": "ipython3",
   "version": "3.11.7"
  }
 },
 "nbformat": 4,
 "nbformat_minor": 5
}
